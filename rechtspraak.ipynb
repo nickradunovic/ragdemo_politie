{
 "cells": [
  {
   "cell_type": "markdown",
   "metadata": {},
   "source": [
    "<a href=\"https://colab.research.google.com/github/nickradunovic/ragdemo_politie/blob/main/rechtspraak.ipynb\" target=\"_parent\"><img src=\"https://colab.research.google.com/assets/colab-badge.svg\" alt=\"Open In Colab\"/></a>"
   ]
  },
  {
   "cell_type": "code",
   "execution_count": 5,
   "metadata": {},
   "outputs": [],
   "source": [
    "from rechtspraak_funcs import get_rechtspraak, get_rechtspraak_metadata\n",
    "import pandas as pd\n",
    "from datetime import datetime, timedelta\n",
    "import time\n",
    "\n",
    "pd.set_option(\"display.max_rows\", None)  # Show all rows\n",
    "pd.set_option(\"display.max_columns\", None)  # Show all columns\n",
    "pd.set_option(\"display.max_colwidth\", None)  # Show full column width"
   ]
  },
  {
   "cell_type": "code",
   "execution_count": 6,
   "metadata": {},
   "outputs": [],
   "source": [
    "def generate_weekly_dates(start_date, end_date):\n",
    "    current_date = start_date\n",
    "    while current_date < end_date:\n",
    "        next_week = current_date + timedelta(days=4)\n",
    "        yield current_date, next_week\n",
    "        current_date = next_week"
   ]
  },
  {
   "cell_type": "code",
   "execution_count": 7,
   "metadata": {},
   "outputs": [],
   "source": [
    "year = \"2020\""
   ]
  },
  {
   "cell_type": "code",
   "execution_count": 8,
   "metadata": {},
   "outputs": [
    {
     "name": "stdout",
     "output_type": "stream",
     "text": [
      "2020-01-01 2020-01-05\n",
      "Found 404 cases!\n"
     ]
    },
    {
     "name": "stderr",
     "output_type": "stream",
     "text": [
      "30281it [00:01, 292.54it/s]            ?, ?it/s]"
     ]
    },
    {
     "name": "stdout",
     "output_type": "stream",
     "text": [
      "Number of cases with metadata: 0\n",
      "2020-01-05 2020-01-09\n",
      "Found 1000 cases!\n"
     ]
    },
    {
     "name": "stderr",
     "output_type": "stream",
     "text": [
      "31283it [00:04, 204.66it/s]             ?, ?it/s]"
     ]
    },
    {
     "name": "stdout",
     "output_type": "stream",
     "text": [
      "Number of cases with metadata: 0\n",
      "2020-01-09 2020-01-13\n",
      "Found 1000 cases!\n"
     ]
    },
    {
     "name": "stderr",
     "output_type": "stream",
     "text": [
      "32278it [00:04, 221.83it/s]             ?, ?it/s]"
     ]
    },
    {
     "name": "stdout",
     "output_type": "stream",
     "text": [
      "Number of cases with metadata: 0\n",
      "2020-01-13 2020-01-17\n",
      "Found 1000 cases!\n"
     ]
    },
    {
     "name": "stderr",
     "output_type": "stream",
     "text": [
      "33262it [00:04, 212.83it/s]             ?, ?it/s]"
     ]
    },
    {
     "name": "stdout",
     "output_type": "stream",
     "text": [
      "Number of cases with metadata: 0\n",
      "2020-01-17 2020-01-21\n",
      "Found 1000 cases!\n"
     ]
    },
    {
     "name": "stderr",
     "output_type": "stream",
     "text": [
      "34285it [00:04, 191.98it/s]                      9.02it/s]"
     ]
    },
    {
     "name": "stdout",
     "output_type": "stream",
     "text": [
      "Number of cases with metadata: 0\n",
      "2020-01-21 2020-01-25\n",
      "Found 1000 cases!\n"
     ]
    },
    {
     "name": "stderr",
     "output_type": "stream",
     "text": [
      "35267it [00:04, 231.75it/s]             ?, ?it/s]"
     ]
    },
    {
     "name": "stdout",
     "output_type": "stream",
     "text": [
      "Number of cases with metadata: 0\n",
      "2020-01-25 2020-01-29\n",
      "Found 1000 cases!\n"
     ]
    },
    {
     "name": "stderr",
     "output_type": "stream",
     "text": [
      "36288it [00:05, 132.20it/s]             ?, ?it/s]"
     ]
    },
    {
     "name": "stdout",
     "output_type": "stream",
     "text": [
      "Number of cases with metadata: 0\n",
      "2020-01-29 2020-02-02\n",
      "Found 1000 cases!\n"
     ]
    },
    {
     "name": "stderr",
     "output_type": "stream",
     "text": [
      "37284it [00:04, 206.02it/s]             ?, ?it/s]"
     ]
    },
    {
     "name": "stdout",
     "output_type": "stream",
     "text": [
      "Number of cases with metadata: 0\n",
      "2020-02-02 2020-02-06\n",
      "Found 1000 cases!\n"
     ]
    },
    {
     "name": "stderr",
     "output_type": "stream",
     "text": [
      "38288it [00:04, 197.71it/s]             ?, ?it/s]"
     ]
    },
    {
     "name": "stdout",
     "output_type": "stream",
     "text": [
      "Number of cases with metadata: 0\n",
      "2020-02-06 2020-02-10\n",
      "Found 1000 cases!\n"
     ]
    },
    {
     "name": "stderr",
     "output_type": "stream",
     "text": [
      "39274it [00:04, 250.64it/s]             ?, ?it/s]"
     ]
    },
    {
     "name": "stdout",
     "output_type": "stream",
     "text": [
      "Number of cases with metadata: 0\n",
      "2020-02-10 2020-02-14\n",
      "Found 1000 cases!\n"
     ]
    },
    {
     "name": "stderr",
     "output_type": "stream",
     "text": [
      "40285it [00:04, 209.55it/s]             ?, ?it/s]"
     ]
    },
    {
     "name": "stdout",
     "output_type": "stream",
     "text": [
      "Number of cases with metadata: 0\n",
      "2020-02-14 2020-02-18\n",
      "Found 1000 cases!\n"
     ]
    },
    {
     "name": "stderr",
     "output_type": "stream",
     "text": [
      "41271it [00:04, 195.51it/s]             ?, ?it/s]"
     ]
    },
    {
     "name": "stdout",
     "output_type": "stream",
     "text": [
      "Number of cases with metadata: 0\n",
      "2020-02-18 2020-02-22\n",
      "Found 1000 cases!\n"
     ]
    },
    {
     "name": "stderr",
     "output_type": "stream",
     "text": [
      "42272it [00:04, 171.00it/s]             ?, ?it/s]"
     ]
    },
    {
     "name": "stdout",
     "output_type": "stream",
     "text": [
      "Number of cases with metadata: 0\n",
      "2020-02-22 2020-02-26\n",
      "Found 1000 cases!\n"
     ]
    },
    {
     "name": "stderr",
     "output_type": "stream",
     "text": [
      "43271it [00:04, 219.47it/s]             ?, ?it/s]"
     ]
    },
    {
     "name": "stdout",
     "output_type": "stream",
     "text": [
      "Number of cases with metadata: 0\n",
      "2020-02-26 2020-03-01\n",
      "Found 1000 cases!\n"
     ]
    },
    {
     "name": "stderr",
     "output_type": "stream",
     "text": [
      "44265it [00:04, 228.85it/s]             ?, ?it/s]"
     ]
    },
    {
     "name": "stdout",
     "output_type": "stream",
     "text": [
      "Number of cases with metadata: 0\n",
      "2020-03-01 2020-03-05\n",
      "Found 1000 cases!\n"
     ]
    },
    {
     "name": "stderr",
     "output_type": "stream",
     "text": [
      "45279it [00:04, 225.24it/s]             ?, ?it/s]"
     ]
    },
    {
     "name": "stdout",
     "output_type": "stream",
     "text": [
      "Number of cases with metadata: 0\n",
      "2020-03-05 2020-03-09\n",
      "Found 1000 cases!\n"
     ]
    },
    {
     "name": "stderr",
     "output_type": "stream",
     "text": [
      "46275it [00:04, 195.65it/s]             ?, ?it/s]"
     ]
    },
    {
     "name": "stdout",
     "output_type": "stream",
     "text": [
      "Number of cases with metadata: 0\n",
      "2020-03-09 2020-03-13\n",
      "Found 1000 cases!\n"
     ]
    },
    {
     "name": "stderr",
     "output_type": "stream",
     "text": [
      "47287it [00:04, 201.24it/s]             ?, ?it/s]"
     ]
    },
    {
     "name": "stdout",
     "output_type": "stream",
     "text": [
      "Number of cases with metadata: 0\n",
      "2020-03-13 2020-03-17\n",
      "Found 1000 cases!\n"
     ]
    },
    {
     "name": "stderr",
     "output_type": "stream",
     "text": [
      "48288it [00:04, 190.78it/s]             ?, ?it/s]"
     ]
    },
    {
     "name": "stdout",
     "output_type": "stream",
     "text": [
      "Number of cases with metadata: 0\n",
      "2020-03-17 2020-03-21\n",
      "Found 1000 cases!\n"
     ]
    },
    {
     "name": "stderr",
     "output_type": "stream",
     "text": [
      "49278it [00:04, 204.29it/s]             ?, ?it/s]"
     ]
    },
    {
     "name": "stdout",
     "output_type": "stream",
     "text": [
      "Number of cases with metadata: 0\n",
      "2020-03-21 2020-03-25\n",
      "Found 1000 cases!\n"
     ]
    },
    {
     "name": "stderr",
     "output_type": "stream",
     "text": [
      "50270it [00:04, 233.28it/s]             ?, ?it/s]"
     ]
    },
    {
     "name": "stdout",
     "output_type": "stream",
     "text": [
      "Number of cases with metadata: 0\n",
      "2020-03-25 2020-03-29\n",
      "Found 1000 cases!\n"
     ]
    },
    {
     "name": "stderr",
     "output_type": "stream",
     "text": [
      "51274it [00:04, 219.86it/s]             ?, ?it/s]"
     ]
    },
    {
     "name": "stdout",
     "output_type": "stream",
     "text": [
      "Number of cases with metadata: 0\n",
      "2020-03-29 2020-04-02\n",
      "Found 1000 cases!\n"
     ]
    },
    {
     "name": "stderr",
     "output_type": "stream",
     "text": [
      "52276it [00:04, 217.44it/s]             ?, ?it/s]"
     ]
    },
    {
     "name": "stdout",
     "output_type": "stream",
     "text": [
      "Number of cases with metadata: 0\n",
      "2020-04-02 2020-04-06\n",
      "Found 1000 cases!\n"
     ]
    },
    {
     "name": "stderr",
     "output_type": "stream",
     "text": [
      "53271it [00:04, 192.93it/s]             ?, ?it/s]"
     ]
    },
    {
     "name": "stdout",
     "output_type": "stream",
     "text": [
      "Number of cases with metadata: 0\n",
      "2020-04-06 2020-04-10\n",
      "Found 1000 cases!\n"
     ]
    },
    {
     "name": "stderr",
     "output_type": "stream",
     "text": [
      "54267it [00:04, 184.00it/s]             ?, ?it/s]"
     ]
    },
    {
     "name": "stdout",
     "output_type": "stream",
     "text": [
      "Number of cases with metadata: 0\n",
      "2020-04-10 2020-04-14\n",
      "Found 1000 cases!\n"
     ]
    },
    {
     "name": "stderr",
     "output_type": "stream",
     "text": [
      "55274it [00:04, 234.57it/s]             ?, ?it/s]"
     ]
    },
    {
     "name": "stdout",
     "output_type": "stream",
     "text": [
      "Number of cases with metadata: 0\n",
      "2020-04-14 2020-04-18\n",
      "Found 1000 cases!\n"
     ]
    },
    {
     "name": "stderr",
     "output_type": "stream",
     "text": [
      "56287it [00:04, 235.66it/s]             ?, ?it/s]"
     ]
    },
    {
     "name": "stdout",
     "output_type": "stream",
     "text": [
      "Number of cases with metadata: 0\n",
      "2020-04-18 2020-04-22\n",
      "Found 1000 cases!\n"
     ]
    },
    {
     "name": "stderr",
     "output_type": "stream",
     "text": [
      "57278it [00:04, 239.05it/s]             ?, ?it/s]"
     ]
    },
    {
     "name": "stdout",
     "output_type": "stream",
     "text": [
      "Number of cases with metadata: 0\n",
      "2020-04-22 2020-04-26\n",
      "Found 1000 cases!\n"
     ]
    },
    {
     "name": "stderr",
     "output_type": "stream",
     "text": [
      "58288it [00:04, 212.78it/s]             ?, ?it/s]"
     ]
    },
    {
     "name": "stdout",
     "output_type": "stream",
     "text": [
      "Number of cases with metadata: 0\n",
      "2020-04-26 2020-04-30\n",
      "Found 1000 cases!\n"
     ]
    },
    {
     "name": "stderr",
     "output_type": "stream",
     "text": [
      "59286it [00:04, 200.48it/s]             ?, ?it/s]"
     ]
    },
    {
     "name": "stdout",
     "output_type": "stream",
     "text": [
      "Number of cases with metadata: 0\n",
      "2020-04-30 2020-05-04\n",
      "Found 865 cases!\n"
     ]
    },
    {
     "name": "stderr",
     "output_type": "stream",
     "text": [
      "60153it [00:03, 207.56it/s]            ?, ?it/s]"
     ]
    },
    {
     "name": "stdout",
     "output_type": "stream",
     "text": [
      "Number of cases with metadata: 0\n"
     ]
    },
    {
     "name": "stderr",
     "output_type": "stream",
     "text": [
      "60153it [2:46:44, 207.56it/s]/884 [2:46:48<00:00, 180.75it/s]"
     ]
    }
   ],
   "source": [
    "start_date = datetime.strptime(f\"{year}-01-01\", \"%Y-%m-%d\")\n",
    "end_date = datetime.strptime(f\"{year}-05-01\", \"%Y-%m-%d\")\n",
    "all_metadata_dfs = []\n",
    "for sd, ed in generate_weekly_dates(start_date, end_date):\n",
    "    sd_str = sd.strftime(\"%Y-%m-%d\")\n",
    "    ed_str = ed.strftime(\"%Y-%m-%d\")\n",
    "    print(sd_str, ed_str)\n",
    "    df = get_rechtspraak(max_ecli=1000, sd=sd_str, ed=ed_str, save_file=\"n\")\n",
    "    df_metadata = get_rechtspraak_metadata(dataframe=df)\n",
    "    all_metadata_dfs.append(df_metadata)\n",
    "    time.sleep(1)  # sleep to prevent errors for consecutive requests\n",
    "\n",
    "# Concatenate all metadata DataFrames into a single DataFrame\n",
    "final_metadata_df = pd.concat(all_metadata_dfs, ignore_index=True)\n",
    "final_metadata_df.to_excel(f\"test_rechtspraak_metadata_{year}.xlsx\", index=False)"
   ]
  },
  {
   "cell_type": "code",
   "execution_count": null,
   "metadata": {},
   "outputs": [],
   "source": []
  }
 ],
 "metadata": {
  "kernelspec": {
   "display_name": "politie_rag",
   "language": "python",
   "name": "python3"
  },
  "language_info": {
   "codemirror_mode": {
    "name": "ipython",
    "version": 3
   },
   "file_extension": ".py",
   "mimetype": "text/x-python",
   "name": "python",
   "nbconvert_exporter": "python",
   "pygments_lexer": "ipython3",
   "version": "3.11.1"
  }
 },
 "nbformat": 4,
 "nbformat_minor": 2
}
